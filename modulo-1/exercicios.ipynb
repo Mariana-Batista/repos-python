{
 "cells": [
  {
   "cell_type": "markdown",
   "metadata": {},
   "source": [
    "Faça um programa que peça ao usuário para digitar um número inteiro, informe se este número é par ou ímpar. Caso o usuário não digite um número inteiro, informe que não é um número inteiro."
   ]
  },
  {
   "cell_type": "code",
   "execution_count": 1,
   "metadata": {},
   "outputs": [
    {
     "name": "stdout",
     "output_type": "stream",
     "text": [
      "O 5 é um número impar!\n"
     ]
    }
   ],
   "source": [
    "numero_str = input(\"Digite um número inteiro: \")\n",
    "\n",
    "try:\n",
    "    numero_int = int(numero_str)\n",
    "    if numero_int % 2 == 0:\n",
    "        print(f'O {numero_str} é um número par!')\n",
    "    else:\n",
    "        print(f'O {numero_str} é um número impar!')\n",
    "except:\n",
    "    print(f'Foi digitado {numero_str}. Isso não é um número!')"
   ]
  },
  {
   "cell_type": "markdown",
   "metadata": {},
   "source": [
    "Faça um programa que pergunte a hora ao usuário e, baseando-se no horário descrito, exiba a saudação apropriada. \n",
    "Ex. Bom dia 0-11, Boa tarde 12-17 e Boa noite 18-23."
   ]
  },
  {
   "cell_type": "code",
   "execution_count": 4,
   "metadata": {},
   "outputs": [
    {
     "name": "stdout",
     "output_type": "stream",
     "text": [
      "Bom dia!\n"
     ]
    }
   ],
   "source": [
    "horario_str = input(\"Digite as horas: \")\n",
    "\n",
    "try:\n",
    "    horario_int = int(horario_str)\n",
    "    if horario_int <= 11:\n",
    "        print('Bom dia!')\n",
    "    elif 12 <= horario_int <= 17:  \n",
    "        print('Boa tarde!')\n",
    "    elif 18 <= horario_int <= 23:  \n",
    "        print('Boa noite!')\n",
    "    else:\n",
    "        print('Horário inválido!') \n",
    "except ValueError:  \n",
    "    print(f'{horario_str} não é um horário válido!')"
   ]
  },
  {
   "cell_type": "markdown",
   "metadata": {},
   "source": [
    "Faça um programa que peça o primeiro nome do usuário. Se o nome tiver 4 letras ou menos escreva \"Seu nome é curto\"; se tiver entre 5 e 6 letras, escreva \"Seu nome é normal\"; maior que 6 escreva \"Seu nome é muito grande\". "
   ]
  },
  {
   "cell_type": "code",
   "execution_count": 5,
   "metadata": {},
   "outputs": [
    {
     "name": "stdout",
     "output_type": "stream",
     "text": [
      "Seu nome é muito grande!\n"
     ]
    }
   ],
   "source": [
    "nome = input(\"Digite seu nome: \")\n",
    "\n",
    "tamanho_nome = len(nome)\n",
    "\n",
    "if tamanho_nome > 1:  # Verifica se o nome tem mais de uma letra\n",
    "    if tamanho_nome <= 4:\n",
    "        print('Seu nome é curto!')\n",
    "    elif 5 <= tamanho_nome <= 6:\n",
    "        print('Seu nome tem tamanho normal!')\n",
    "    else:\n",
    "        print('Seu nome é muito grande!')\n",
    "else:\n",
    "    print('Digite mais de uma letra!')"
   ]
  },
  {
   "cell_type": "markdown",
   "metadata": {},
   "source": []
  }
 ],
 "metadata": {
  "kernelspec": {
   "display_name": "Python 3",
   "language": "python",
   "name": "python3"
  },
  "language_info": {
   "codemirror_mode": {
    "name": "ipython",
    "version": 3
   },
   "file_extension": ".py",
   "mimetype": "text/x-python",
   "name": "python",
   "nbconvert_exporter": "python",
   "pygments_lexer": "ipython3",
   "version": "3.12.5"
  }
 },
 "nbformat": 4,
 "nbformat_minor": 2
}
