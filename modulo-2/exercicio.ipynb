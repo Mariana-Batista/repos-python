{
 "cells": [
  {
   "cell_type": "markdown",
   "metadata": {},
   "source": [
    "Crie uma função que multiplica todos os argumentos não nomeados recebidos. Retorne o total para uma variável e mostre o valor da variável."
   ]
  },
  {
   "cell_type": "code",
   "execution_count": 11,
   "metadata": {},
   "outputs": [
    {
     "name": "stdout",
     "output_type": "stream",
     "text": [
      "12\n",
      "45\n"
     ]
    }
   ],
   "source": [
    "def multiplica (*args):\n",
    "    total = 1\n",
    "    \n",
    "    for numero in args:\n",
    "        total *= numero\n",
    "    return total\n",
    "\n",
    "multiplicacao_1 = multiplica(2, 6)\n",
    "multiplicacao_2 = multiplica(3, 3, 5)\n",
    "print(multiplicacao_1)\n",
    "print(multiplicacao_2)"
   ]
  },
  {
   "cell_type": "markdown",
   "metadata": {},
   "source": [
    "Crie uma função fala se um número é par ou ímpar.\n",
    "Retorne se o número é par ou ímpar."
   ]
  },
  {
   "cell_type": "code",
   "execution_count": 17,
   "metadata": {},
   "outputs": [
    {
     "name": "stdout",
     "output_type": "stream",
     "text": [
      "2 é par\n",
      "3 é ímpar\n",
      "15 é ímpar\n",
      "16 é par\n",
      "True\n"
     ]
    }
   ],
   "source": [
    "def par_impar(numero):\n",
    "    multiplo_de_dois = numero % 2 == 0\n",
    "\n",
    "    if multiplo_de_dois:\n",
    "        return f'{numero} é par'\n",
    "    return f'{numero} é ímpar'\n",
    "\n",
    "\n",
    "outro_par_impar = par_impar\n",
    "dois_e_par = outro_par_impar(2)\n",
    "print(dois_e_par)\n",
    "print(par_impar(3))\n",
    "print(par_impar(15))\n",
    "print(par_impar(16))\n",
    "\n",
    "print(par_impar is outro_par_impar)"
   ]
  },
  {
   "cell_type": "code",
   "execution_count": 19,
   "metadata": {},
   "outputs": [
    {
     "name": "stdout",
     "output_type": "stream",
     "text": [
      "5 é ímpar\n",
      "6 é par\n",
      "True\n"
     ]
    }
   ],
   "source": [
    "def par_impar():\n",
    "    numero = int(input(\"Digite um número: \"))\n",
    "    multiplo_de_dois = numero % 2 == 0\n",
    "\n",
    "    if multiplo_de_dois:\n",
    "        return f'{numero} é par'\n",
    "    else:  \n",
    "        return f'{numero} é ímpar'\n",
    "\n",
    "\n",
    "outro_par_impar = par_impar\n",
    "print(outro_par_impar())\n",
    "print(par_impar())\n",
    "\n",
    "print(par_impar is outro_par_impar)"
   ]
  },
  {
   "cell_type": "code",
   "execution_count": null,
   "metadata": {},
   "outputs": [],
   "source": []
  }
 ],
 "metadata": {
  "kernelspec": {
   "display_name": "Python 3",
   "language": "python",
   "name": "python3"
  },
  "language_info": {
   "codemirror_mode": {
    "name": "ipython",
    "version": 3
   },
   "file_extension": ".py",
   "mimetype": "text/x-python",
   "name": "python",
   "nbconvert_exporter": "python",
   "pygments_lexer": "ipython3",
   "version": "3.12.5"
  }
 },
 "nbformat": 4,
 "nbformat_minor": 2
}
